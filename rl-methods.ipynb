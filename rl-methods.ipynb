{
 "cells": [
  {
   "cell_type": "markdown",
   "id": "ac4aad68",
   "metadata": {},
   "source": [
    "# Installing Requirements"
   ]
  },
  {
   "cell_type": "code",
   "execution_count": null,
   "id": "fb1240f1",
   "metadata": {},
   "outputs": [],
   "source": [
    "# !pip install stable-baselines3\n",
    "# !pip install gym"
   ]
  },
  {
   "cell_type": "markdown",
   "id": "c48c8edf",
   "metadata": {},
   "source": [
    "# Importing Libraries"
   ]
  },
  {
   "cell_type": "code",
   "execution_count": null,
   "id": "2b688208",
   "metadata": {},
   "outputs": [],
   "source": [
    "import numpy as np\n",
    "import pandas as pd\n",
    "import seaborn as sns\n",
    "import matplotlib.pyplot as plt\n",
    "import warnings\n",
    "warnings.filterwarnings('ignore')\n",
    "\n",
    "# Enable inline plotting in Jupyter Notebook\n",
    "%matplotlib inline\n",
    "\n",
    "# Format pandas output to show 3 decimal places\n",
    "pd.set_option('display.float_format', lambda x: '%.3f' % x)\n",
    "\n",
    "# Set default plot size for all matplotlib figures\n",
    "plt.rcParams[\"figure.figsize\"] = (10, 6)\n",
    "\n",
    "# View all columns when printing\n",
    "pd.set_option(\"display.max_columns\", None) "
   ]
  },
  {
   "cell_type": "code",
   "execution_count": null,
   "id": "6efe33b1",
   "metadata": {},
   "outputs": [],
   "source": [
    "import torch\n",
    "torch.accelerator.is_available()"
   ]
  },
  {
   "cell_type": "markdown",
   "id": "8caae539",
   "metadata": {},
   "source": [
    "# Importing Dataset"
   ]
  },
  {
   "cell_type": "code",
   "execution_count": null,
   "id": "92c7d569",
   "metadata": {},
   "outputs": [],
   "source": [
    "df_train = pd.read_csv(\"/kaggle/input/nslkdd/KDDTrain+.txt\")\n",
    "df_test = pd.read_csv(\"/kaggle/input/nslkdd/KDDTest+.txt\")"
   ]
  },
  {
   "cell_type": "code",
   "execution_count": null,
   "id": "99620b36",
   "metadata": {},
   "outputs": [],
   "source": [
    "col_names = [\"duration\", \"protocol_type\", \"service\", \"flag\", \"src_bytes\",\n",
    "                     \"dst_bytes\", \"land_f\", \"wrong_fragment\", \"urgent\", \"hot\", \"num_failed_logins\",\n",
    "                     \"logged_in\", \"num_compromised\", \"root_shell\", \"su_attempted\", \"num_root\",\n",
    "                     \"num_file_creations\", \"num_shells\", \"num_access_files\", \"num_outbound_cmds\",\n",
    "                     \"is_host_login\", \"is_guest_login\", \"count\", \"srv_count\", \"serror_rate\",\n",
    "                     \"srv_serror_rate\", \"rerror_rate\", \"srv_rerror_rate\", \"same_srv_rate\",\n",
    "                     \"diff_srv_rate\", \"srv_diff_host_rate\", \"dst_host_count\", \"dst_host_srv_count\",\n",
    "                     \"dst_host_same_srv_rate\", \"dst_host_diff_srv_rate\", \"dst_host_same_src_port_rate\",\n",
    "                     \"dst_host_srv_diff_host_rate\", \"dst_host_serror_rate\", \"dst_host_srv_serror_rate\",\n",
    "                     \"dst_host_rerror_rate\", \"dst_host_srv_rerror_rate\", \"labels\", \"dificulty\"]\n",
    "df_train.columns = col_names\n",
    "df_test.columns = col_names"
   ]
  },
  {
   "cell_type": "code",
   "execution_count": null,
   "id": "8d123361",
   "metadata": {},
   "outputs": [],
   "source": [
    "print(df_train.shape)\n",
    "print(df_train.shape)"
   ]
  },
  {
   "cell_type": "code",
   "execution_count": null,
   "id": "81574efb",
   "metadata": {},
   "outputs": [],
   "source": [
    "df_train.sample(3)"
   ]
  },
  {
   "cell_type": "code",
   "execution_count": null,
   "id": "b05e1b4c",
   "metadata": {},
   "outputs": [],
   "source": [
    "df_test.sample(3)"
   ]
  },
  {
   "cell_type": "code",
   "execution_count": null,
   "id": "cda3643f",
   "metadata": {},
   "outputs": [],
   "source": [
    "# df_train.drop([\"dificulty\"], axis=1, inplace=True)\n",
    "# df_test.drop([\"dificulty\"], axis=1, inplace=True)"
   ]
  },
  {
   "cell_type": "markdown",
   "id": "71258832",
   "metadata": {},
   "source": [
    "### One-hot Encoding"
   ]
  },
  {
   "cell_type": "code",
   "execution_count": 2,
   "id": "4fb7a530",
   "metadata": {},
   "outputs": [],
   "source": [
    "# df_train.select_dtypes(include='object').columns"
   ]
  },
  {
   "cell_type": "code",
   "execution_count": null,
   "id": "cb970c1f",
   "metadata": {},
   "outputs": [],
   "source": [
    "categorical_columns = ['protocol_type', 'service', 'flag']\n",
    "df_train = pd.get_dummies(df_train,columns=categorical_columns)\n",
    "df_test = pd.get_dummies(df_test,columns=categorical_columns)"
   ]
  },
  {
   "cell_type": "markdown",
   "id": "757542d5",
   "metadata": {},
   "source": [
    "##### making train and test the same shape"
   ]
  },
  {
   "cell_type": "code",
   "execution_count": null,
   "id": "76e1f998",
   "metadata": {},
   "outputs": [],
   "source": [
    "df_train_column_set = set(df_train.columns)\n",
    "df_test_column_set = set(df_test.columns)\n",
    "\n",
    "for s in df_train_column_set - df_test_column_set:\n",
    "    df_test[s] = False"
   ]
  },
  {
   "cell_type": "markdown",
   "id": "fe7fe80e",
   "metadata": {},
   "source": [
    "#### Feature Selection"
   ]
  },
  {
   "cell_type": "markdown",
   "id": "205ce51e",
   "metadata": {},
   "source": [
    "1 - Features based on related articles"
   ]
  },
  {
   "cell_type": "code",
   "execution_count": null,
   "id": "f736009d",
   "metadata": {},
   "outputs": [],
   "source": [
    "# f = [\"dst_host_serror_rate\", \"service_private\", \"count\",\"dst_host_count\", \"service_domain_u\", \"flag_REJ\", \"dst_host_diff_srv_rate\"]\n",
    "# important_features = f + [\"labels\"]\n",
    "# important_features = list(set(important_features))"
   ]
  },
  {
   "cell_type": "code",
   "execution_count": 3,
   "id": "d35a8618",
   "metadata": {},
   "outputs": [],
   "source": [
    "# df_train = df_train[important_features]\n",
    "# df_test = df_test[important_features]"
   ]
  },
  {
   "cell_type": "markdown",
   "id": "a1fe6b46",
   "metadata": {},
   "source": [
    "### Converting label (actions) to Normal/Attack"
   ]
  },
  {
   "cell_type": "code",
   "execution_count": null,
   "id": "b0ac35c0",
   "metadata": {},
   "outputs": [],
   "source": [
    "df_train['labels'] = df_train['labels'].astype('object')\n",
    "atk_idx = df_train.loc[df_train['labels'] != 'normal'].index\n",
    "df_train.loc[atk_idx, 'labels'] = 1.0\n",
    "df_train.loc[df_train.index.difference(atk_idx), 'labels'] = 0.0\n",
    "df_train['labels'] = df_train['labels'].astype(dtype=np.float32)"
   ]
  },
  {
   "cell_type": "code",
   "execution_count": null,
   "id": "51620db9",
   "metadata": {},
   "outputs": [],
   "source": [
    "df_test['labels'] = df_test['labels'].astype('object')\n",
    "atk_idx = df_test.loc[df_test['labels'] != 'normal'].index\n",
    "df_test.loc[atk_idx, 'labels'] = 1.0\n",
    "df_test.loc[df_test.index.difference(atk_idx), 'labels'] = 0.0\n",
    "df_test['labels'] = df_test['labels'].astype(dtype=np.float32)"
   ]
  },
  {
   "cell_type": "markdown",
   "id": "86abf56a",
   "metadata": {},
   "source": [
    "### Seprating Dataset into State, Action And Spliting Train and Test"
   ]
  },
  {
   "cell_type": "code",
   "execution_count": null,
   "id": "cadac10b",
   "metadata": {},
   "outputs": [],
   "source": [
    "train_col = 'labels'\n",
    "train_cols = df_train.loc[:, df_train.columns != 'labels'].columns\n",
    "test_col = 'labels'\n",
    "test_cols = df_train.loc[:, df_test.columns != 'labels'].columns"
   ]
  },
  {
   "cell_type": "code",
   "execution_count": null,
   "id": "91cd6968",
   "metadata": {},
   "outputs": [],
   "source": [
    "x_train = df_train[train_cols]\n",
    "y_train = df_train[train_col]\n",
    "x_test = df_test[test_cols]\n",
    "y_test = df_test[test_col]"
   ]
  },
  {
   "cell_type": "code",
   "execution_count": null,
   "id": "d9e5e6a2",
   "metadata": {},
   "outputs": [],
   "source": [
    "y_train = y_train.to_frame()\n",
    "y_test = y_test.to_frame()\n",
    "x_train = x_train.set_index([pd.Index(range (0, len(x_train)))])\n",
    "y_train = y_train.set_index([pd.Index(range (0, len(y_train)))])\n",
    "x_test = x_test.set_index([pd.Index(range (0, len(x_test)))])\n",
    "y_test = y_test.set_index([pd.Index(range (0, len(y_test)))])"
   ]
  },
  {
   "cell_type": "markdown",
   "id": "b492e9a8",
   "metadata": {},
   "source": [
    "# Environment"
   ]
  },
  {
   "cell_type": "code",
   "execution_count": null,
   "id": "3a8475a0",
   "metadata": {},
   "outputs": [],
   "source": [
    "import gymnasium as gym\n",
    "from gymnasium.utils.env_checker import check_env\n",
    "import random\n",
    "from typing import Optional"
   ]
  },
  {
   "cell_type": "code",
   "execution_count": null,
   "id": "e0581424",
   "metadata": {},
   "outputs": [],
   "source": [
    "class IdsEnv(gym.Env):\n",
    "    def __init__(self, dataset=(x_train, y_train), random=True):\n",
    "        self.action_space = gym.spaces.Discrete(2) ## normal or malicious\n",
    "        self.observation_space = gym.spaces.Box(low=float('-inf'), high=float('inf'), shape=(len(x_train),))\n",
    "        self.step_count = 0\n",
    "\n",
    "        self.x, self.y = dataset\n",
    "        self.random = random\n",
    "        self.dataset_idx = 0\n",
    "    \n",
    "    def step(self, action):\n",
    "        done = False\n",
    "        reward = int(action == self.expected_action)\n",
    "        current_label = self.expected_action\n",
    "        obs = self._next_obs()\n",
    "\n",
    "        self.step_count += 1\n",
    "        if self.step_count >= self.images_per_episode:\n",
    "            done = True\n",
    "        \n",
    "        return obs, reward, done, {} ,{'label': current_label}\n",
    "\n",
    "        ###### for algorithms with replay buffer as bellow\n",
    "        # info = {\n",
    "        #     'label': current_label,\n",
    "        #     'TimeLimit.truncated': done and self.step_count >= self.images_per_episode\n",
    "        # }\n",
    "        # return obs, reward, done, info, {}\n",
    "\n",
    "    def _next_obs(self):\n",
    "        if self.random:\n",
    "            next_obs_idx = random.randint(0, len(self.x) - 1)\n",
    "            self.expected_action = int(self.y.iloc[next_obs_idx,:])\n",
    "            obs = self.x.iloc[next_obs_idx,:]\n",
    "\n",
    "        else:\n",
    "            obs = self.x.iloc[self.dataset_idx]\n",
    "            self.expected_action = int(self.y.iloc[self.dataset_idx])\n",
    "\n",
    "            self.dataset_idx += 1\n",
    "            if self.dataset_idx >= len(self.x):\n",
    "                raise StopIteration()\n",
    "        return obs\n",
    "    \n",
    "    def reset(self,seed: Optional[int] = None, options: Optional[dict] = None):\n",
    "        super().reset(seed=seed)\n",
    "        \n",
    "        \n",
    "        self.step_count = 0\n",
    "        obs = self._next_obs()\n",
    "        return obs,{0:\"info\"}"
   ]
  },
  {
   "cell_type": "code",
   "execution_count": null,
   "id": "3f8411f6",
   "metadata": {},
   "outputs": [],
   "source": [
    "check_env(env)"
   ]
  },
  {
   "cell_type": "code",
   "execution_count": null,
   "id": "61c43ffc",
   "metadata": {},
   "outputs": [],
   "source": [
    "env.reset()"
   ]
  },
  {
   "cell_type": "code",
   "execution_count": null,
   "id": "cada2ee1",
   "metadata": {},
   "outputs": [],
   "source": [
    "env = IdsEnv()"
   ]
  },
  {
   "cell_type": "markdown",
   "id": "f8ed3e0c",
   "metadata": {},
   "source": [
    "If you want to train the algorithm on multiple environment in parallel through the stable-baselines lib (vectorized environments)"
   ]
  },
  {
   "cell_type": "code",
   "execution_count": null,
   "id": "b48b88c1",
   "metadata": {},
   "outputs": [],
   "source": [
    "from stable_baselines3.common.vec_env import DummyVecEnv"
   ]
  },
  {
   "cell_type": "code",
   "execution_count": null,
   "id": "976c1fde",
   "metadata": {},
   "outputs": [],
   "source": [
    "n_envs = 16  # hyperparameter\n",
    "env = DummyVecEnv([lambda: IdsEnv()] * n_envs)"
   ]
  }
 ],
 "metadata": {
  "kernelspec": {
   "display_name": "Python 3",
   "language": "python",
   "name": "python3"
  },
  "language_info": {
   "codemirror_mode": {
    "name": "ipython",
    "version": 3
   },
   "file_extension": ".py",
   "mimetype": "text/x-python",
   "name": "python",
   "nbconvert_exporter": "python",
   "pygments_lexer": "ipython3",
   "version": "3.10.8"
  }
 },
 "nbformat": 4,
 "nbformat_minor": 5
}
